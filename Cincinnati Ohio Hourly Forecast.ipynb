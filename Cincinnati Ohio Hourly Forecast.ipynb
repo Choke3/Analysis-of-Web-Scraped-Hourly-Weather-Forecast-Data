{
 "cells": [
  {
   "cell_type": "markdown",
   "metadata": {},
   "source": [
    "# Cincinnati, Ohio Hourly Weather Forecast"
   ]
  },
  {
   "cell_type": "markdown",
   "metadata": {},
   "source": [
    "### Gathering Data"
   ]
  },
  {
   "cell_type": "code",
   "execution_count": 1,
   "metadata": {},
   "outputs": [],
   "source": [
    "# Import Python Libraries\n",
    "import pandas as pd \n",
    "from bs4 import BeautifulSoup\n",
    "import requests\n",
    "import matplotlib.pyplot as plt\n",
    "%matplotlib inline\n",
    "import seaborn as sns\n",
    "sns.set()"
   ]
  },
  {
   "cell_type": "code",
   "execution_count": 2,
   "metadata": {},
   "outputs": [],
   "source": [
    "# website url for hourly weather forecast\n",
    "url = \"https://www.wcpo.com/weather/hourly-forecast\""
   ]
  },
  {
   "cell_type": "code",
   "execution_count": 3,
   "metadata": {},
   "outputs": [],
   "source": [
    "# Request source code from the web\n",
    "page = requests.get(url)"
   ]
  },
  {
   "cell_type": "code",
   "execution_count": 4,
   "metadata": {},
   "outputs": [],
   "source": [
    "# Parse html using BeautifulSoup\n",
    "soup = BeautifulSoup(page.content, 'lxml')\n",
    "items = soup.find_all(\"div\", class_=\"WeatherHourly\")\n",
    "\n",
    "# Loop through hourly data\n",
    "day = [item.find(class_=\"data-cover day-view today\").get_text() for item in items]\n",
    "conditions= [item.find(class_=\"data-cover descrip-text\").get_text() for item in items]\n",
    "temp = [item.find(class_=\"data-cover hi-lo-day\").get_text()[:-2] for item in items]\n",
    "precip = [item.find(class_=\"data-cover precip-daily-forecast\").get_text()[:-2] for item in items]"
   ]
  },
  {
   "cell_type": "code",
   "execution_count": 5,
   "metadata": {},
   "outputs": [],
   "source": [
    "# create DataFrame from list\n",
    "df = pd.DataFrame({\"Day\": day, \n",
    "                \"Conditions\" : conditions,\n",
    "                \"Temp (°F)\" : temp, \n",
    "                \"Precip (%)\" : precip}, )"
   ]
  },
  {
   "cell_type": "markdown",
   "metadata": {},
   "source": [
    "### Assessing  & Cleaning Data"
   ]
  },
  {
   "cell_type": "code",
   "execution_count": 6,
   "metadata": {},
   "outputs": [
    {
     "data": {
      "text/html": [
       "<div>\n",
       "<style scoped>\n",
       "    .dataframe tbody tr th:only-of-type {\n",
       "        vertical-align: middle;\n",
       "    }\n",
       "\n",
       "    .dataframe tbody tr th {\n",
       "        vertical-align: top;\n",
       "    }\n",
       "\n",
       "    .dataframe thead th {\n",
       "        text-align: right;\n",
       "    }\n",
       "</style>\n",
       "<table border=\"1\" class=\"dataframe\">\n",
       "  <thead>\n",
       "    <tr style=\"text-align: right;\">\n",
       "      <th></th>\n",
       "      <th>Day</th>\n",
       "      <th>Conditions</th>\n",
       "      <th>Temp (°F)</th>\n",
       "      <th>Precip (%)</th>\n",
       "    </tr>\n",
       "  </thead>\n",
       "  <tbody>\n",
       "    <tr>\n",
       "      <th>0</th>\n",
       "      <td>\\nSunday\\n06:00 PM</td>\n",
       "      <td>\\nMostly Sunny\\n</td>\n",
       "      <td>\\n80</td>\n",
       "      <td>\\n 1</td>\n",
       "    </tr>\n",
       "    <tr>\n",
       "      <th>1</th>\n",
       "      <td>\\nSunday\\n07:00 PM</td>\n",
       "      <td>\\nMostly Sunny\\n</td>\n",
       "      <td>\\n78</td>\n",
       "      <td>\\n 2</td>\n",
       "    </tr>\n",
       "    <tr>\n",
       "      <th>2</th>\n",
       "      <td>\\nSunday\\n08:00 PM</td>\n",
       "      <td>\\nPartly Cloudy\\n</td>\n",
       "      <td>\\n73</td>\n",
       "      <td>\\n 15</td>\n",
       "    </tr>\n",
       "    <tr>\n",
       "      <th>3</th>\n",
       "      <td>\\nSunday\\n09:00 PM</td>\n",
       "      <td>\\nPartly Cloudy\\n</td>\n",
       "      <td>\\n69</td>\n",
       "      <td>\\n 15</td>\n",
       "    </tr>\n",
       "    <tr>\n",
       "      <th>4</th>\n",
       "      <td>\\nSunday\\n10:00 PM</td>\n",
       "      <td>\\nPartly Cloudy\\n</td>\n",
       "      <td>\\n68</td>\n",
       "      <td>\\n 15</td>\n",
       "    </tr>\n",
       "  </tbody>\n",
       "</table>\n",
       "</div>"
      ],
      "text/plain": [
       "                   Day         Conditions Temp (°F) Precip (%)\n",
       "0  \\nSunday\\n06:00 PM    \\nMostly Sunny\\n      \\n80       \\n 1\n",
       "1  \\nSunday\\n07:00 PM    \\nMostly Sunny\\n      \\n78       \\n 2\n",
       "2  \\nSunday\\n08:00 PM   \\nPartly Cloudy\\n      \\n73      \\n 15\n",
       "3  \\nSunday\\n09:00 PM   \\nPartly Cloudy\\n      \\n69      \\n 15\n",
       "4  \\nSunday\\n10:00 PM   \\nPartly Cloudy\\n      \\n68      \\n 15"
      ]
     },
     "execution_count": 6,
     "metadata": {},
     "output_type": "execute_result"
    }
   ],
   "source": [
    "# Display few rows of data\n",
    "df.head()"
   ]
  },
  {
   "cell_type": "code",
   "execution_count": 7,
   "metadata": {},
   "outputs": [
    {
     "name": "stdout",
     "output_type": "stream",
     "text": [
      "48\n"
     ]
    }
   ],
   "source": [
    "# Count of data\n",
    "print(len(df))"
   ]
  },
  {
   "cell_type": "code",
   "execution_count": 8,
   "metadata": {},
   "outputs": [],
   "source": [
    "# Remove newline characters\n",
    "for col in df.columns:\n",
    "    df[col]= df[col].str.replace(\"\\n\", \" \").str.strip()\n"
   ]
  },
  {
   "cell_type": "code",
   "execution_count": 9,
   "metadata": {},
   "outputs": [
    {
     "data": {
      "text/html": [
       "<div>\n",
       "<style scoped>\n",
       "    .dataframe tbody tr th:only-of-type {\n",
       "        vertical-align: middle;\n",
       "    }\n",
       "\n",
       "    .dataframe tbody tr th {\n",
       "        vertical-align: top;\n",
       "    }\n",
       "\n",
       "    .dataframe thead th {\n",
       "        text-align: right;\n",
       "    }\n",
       "</style>\n",
       "<table border=\"1\" class=\"dataframe\">\n",
       "  <thead>\n",
       "    <tr style=\"text-align: right;\">\n",
       "      <th></th>\n",
       "      <th>Day</th>\n",
       "      <th>Conditions</th>\n",
       "      <th>Temp (°F)</th>\n",
       "      <th>Precip (%)</th>\n",
       "    </tr>\n",
       "  </thead>\n",
       "  <tbody>\n",
       "    <tr>\n",
       "      <th>0</th>\n",
       "      <td>Sunday 06:00 PM</td>\n",
       "      <td>Mostly Sunny</td>\n",
       "      <td>80</td>\n",
       "      <td>1</td>\n",
       "    </tr>\n",
       "    <tr>\n",
       "      <th>1</th>\n",
       "      <td>Sunday 07:00 PM</td>\n",
       "      <td>Mostly Sunny</td>\n",
       "      <td>78</td>\n",
       "      <td>2</td>\n",
       "    </tr>\n",
       "    <tr>\n",
       "      <th>2</th>\n",
       "      <td>Sunday 08:00 PM</td>\n",
       "      <td>Partly Cloudy</td>\n",
       "      <td>73</td>\n",
       "      <td>15</td>\n",
       "    </tr>\n",
       "    <tr>\n",
       "      <th>3</th>\n",
       "      <td>Sunday 09:00 PM</td>\n",
       "      <td>Partly Cloudy</td>\n",
       "      <td>69</td>\n",
       "      <td>15</td>\n",
       "    </tr>\n",
       "    <tr>\n",
       "      <th>4</th>\n",
       "      <td>Sunday 10:00 PM</td>\n",
       "      <td>Partly Cloudy</td>\n",
       "      <td>68</td>\n",
       "      <td>15</td>\n",
       "    </tr>\n",
       "  </tbody>\n",
       "</table>\n",
       "</div>"
      ],
      "text/plain": [
       "               Day     Conditions Temp (°F) Precip (%)\n",
       "0  Sunday 06:00 PM   Mostly Sunny        80          1\n",
       "1  Sunday 07:00 PM   Mostly Sunny        78          2\n",
       "2  Sunday 08:00 PM  Partly Cloudy        73         15\n",
       "3  Sunday 09:00 PM  Partly Cloudy        69         15\n",
       "4  Sunday 10:00 PM  Partly Cloudy        68         15"
      ]
     },
     "execution_count": 9,
     "metadata": {},
     "output_type": "execute_result"
    }
   ],
   "source": [
    "# Display the first 5 rows data after cleaning \n",
    "df.head()"
   ]
  },
  {
   "cell_type": "code",
   "execution_count": 10,
   "metadata": {},
   "outputs": [
    {
     "name": "stdout",
     "output_type": "stream",
     "text": [
      "<class 'pandas.core.frame.DataFrame'>\n",
      "RangeIndex: 48 entries, 0 to 47\n",
      "Data columns (total 4 columns):\n",
      " #   Column      Non-Null Count  Dtype \n",
      "---  ------      --------------  ----- \n",
      " 0   Day         48 non-null     object\n",
      " 1   Conditions  48 non-null     object\n",
      " 2   Temp (°F)   48 non-null     object\n",
      " 3   Precip (%)  48 non-null     object\n",
      "dtypes: object(4)\n",
      "memory usage: 1.6+ KB\n"
     ]
    }
   ],
   "source": [
    "# Concise summary of the data\n",
    "df.info()"
   ]
  },
  {
   "cell_type": "code",
   "execution_count": 11,
   "metadata": {},
   "outputs": [],
   "source": [
    "# Convert datatypes of \"Temp (°F)\" & \"Precip (%)\" columns to \"int64\"\n",
    "df = df.astype({\"Temp (°F)\" : \"int64\", \n",
    "           \"Precip (%)\" : \"int64\"})"
   ]
  },
  {
   "cell_type": "code",
   "execution_count": 12,
   "metadata": {},
   "outputs": [
    {
     "data": {
      "text/plain": [
       "Day           object\n",
       "Conditions    object\n",
       "Temp (°F)      int64\n",
       "Precip (%)     int64\n",
       "dtype: object"
      ]
     },
     "execution_count": 12,
     "metadata": {},
     "output_type": "execute_result"
    }
   ],
   "source": [
    "# Datatypes after removing a newline character\n",
    "df.dtypes"
   ]
  },
  {
   "cell_type": "code",
   "execution_count": 13,
   "metadata": {},
   "outputs": [
    {
     "data": {
      "text/plain": [
       "count    48.000000\n",
       "mean     62.312500\n",
       "std       7.657999\n",
       "min      50.000000\n",
       "25%      55.750000\n",
       "50%      64.000000\n",
       "75%      67.250000\n",
       "max      80.000000\n",
       "Name: Temp (°F), dtype: float64"
      ]
     },
     "execution_count": 13,
     "metadata": {},
     "output_type": "execute_result"
    }
   ],
   "source": [
    "# A short Statistical summary of the Temp column\n",
    "df[\"Temp (°F)\"].describe()"
   ]
  },
  {
   "cell_type": "code",
   "execution_count": 14,
   "metadata": {},
   "outputs": [
    {
     "data": {
      "text/html": [
       "<div>\n",
       "<style scoped>\n",
       "    .dataframe tbody tr th:only-of-type {\n",
       "        vertical-align: middle;\n",
       "    }\n",
       "\n",
       "    .dataframe tbody tr th {\n",
       "        vertical-align: top;\n",
       "    }\n",
       "\n",
       "    .dataframe thead th {\n",
       "        text-align: right;\n",
       "    }\n",
       "</style>\n",
       "<table border=\"1\" class=\"dataframe\">\n",
       "  <thead>\n",
       "    <tr style=\"text-align: right;\">\n",
       "      <th></th>\n",
       "      <th>Day</th>\n",
       "      <th>Conditions</th>\n",
       "      <th>Temp (°F)</th>\n",
       "      <th>Precip (%)</th>\n",
       "    </tr>\n",
       "  </thead>\n",
       "  <tbody>\n",
       "    <tr>\n",
       "      <th>38</th>\n",
       "      <td>Tuesday 08:00 AM</td>\n",
       "      <td>Partly Cloudy</td>\n",
       "      <td>50</td>\n",
       "      <td>13</td>\n",
       "    </tr>\n",
       "  </tbody>\n",
       "</table>\n",
       "</div>"
      ],
      "text/plain": [
       "                 Day     Conditions  Temp (°F)  Precip (%)\n",
       "38  Tuesday 08:00 AM  Partly Cloudy         50          13"
      ]
     },
     "execution_count": 14,
     "metadata": {},
     "output_type": "execute_result"
    }
   ],
   "source": [
    "# Return data for minimum temperature\n",
    "df.loc[df[\"Temp (°F)\"]== df[\"Temp (°F)\"].min()]"
   ]
  },
  {
   "cell_type": "code",
   "execution_count": 15,
   "metadata": {},
   "outputs": [
    {
     "data": {
      "text/html": [
       "<div>\n",
       "<style scoped>\n",
       "    .dataframe tbody tr th:only-of-type {\n",
       "        vertical-align: middle;\n",
       "    }\n",
       "\n",
       "    .dataframe tbody tr th {\n",
       "        vertical-align: top;\n",
       "    }\n",
       "\n",
       "    .dataframe thead th {\n",
       "        text-align: right;\n",
       "    }\n",
       "</style>\n",
       "<table border=\"1\" class=\"dataframe\">\n",
       "  <thead>\n",
       "    <tr style=\"text-align: right;\">\n",
       "      <th></th>\n",
       "      <th>Day</th>\n",
       "      <th>Conditions</th>\n",
       "      <th>Temp (°F)</th>\n",
       "      <th>Precip (%)</th>\n",
       "    </tr>\n",
       "  </thead>\n",
       "  <tbody>\n",
       "    <tr>\n",
       "      <th>0</th>\n",
       "      <td>Sunday 06:00 PM</td>\n",
       "      <td>Mostly Sunny</td>\n",
       "      <td>80</td>\n",
       "      <td>1</td>\n",
       "    </tr>\n",
       "  </tbody>\n",
       "</table>\n",
       "</div>"
      ],
      "text/plain": [
       "               Day    Conditions  Temp (°F)  Precip (%)\n",
       "0  Sunday 06:00 PM  Mostly Sunny         80           1"
      ]
     },
     "execution_count": 15,
     "metadata": {},
     "output_type": "execute_result"
    }
   ],
   "source": [
    "# Return data for maximum temperature\n",
    "df.loc[df[\"Temp (°F)\"]== df[\"Temp (°F)\"].max()]"
   ]
  },
  {
   "cell_type": "markdown",
   "metadata": {},
   "source": [
    "### Data Visualization"
   ]
  },
  {
   "cell_type": "code",
   "execution_count": 16,
   "metadata": {},
   "outputs": [],
   "source": [
    "plt.style.use(\"ggplot\")"
   ]
  },
  {
   "cell_type": "code",
   "execution_count": 17,
   "metadata": {},
   "outputs": [
    {
     "data": {
      "image/png": "[encoded data removed]",
      "text/plain": [
       "<Figure size 720x360 with 1 Axes>"
      ]
     },
     "metadata": {},
     "output_type": "display_data"
    }
   ],
   "source": [
    "df[\"Temp (°F)\"].hist(figsize = (10, 5))\n",
    "plt.xlabel(\"Temperature\")\n",
    "plt.ylabel(\"Frequency\")\n",
    "plt.title(\"Distribution of Hourly Forecast Temperature\");"
   ]
  },
  {
   "cell_type": "code",
   "execution_count": 18,
   "metadata": {},
   "outputs": [
    {
     "data": {
      "text/plain": [
       "array(['Mostly Sunny', 'Partly Cloudy', 'Mostly Cloudy', 'Few Showers',\n",
       "       'Cloudy', 'Showers', 'Light Rain', 'Thunderstorms', 'Mostly Clear'],\n",
       "      dtype=object)"
      ]
     },
     "execution_count": 18,
     "metadata": {},
     "output_type": "execute_result"
    }
   ],
   "source": [
    "# 'Conditions' column unique values\n",
    "df[\"Conditions\"].unique()"
   ]
  },
  {
   "cell_type": "code",
   "execution_count": 19,
   "metadata": {},
   "outputs": [
    {
     "data": {
      "image/png": "[encoded data removed]",
      "text/plain": [
       "<Figure size 720x360 with 1 Axes>"
      ]
     },
     "metadata": {},
     "output_type": "display_data"
    }
   ],
   "source": [
    "# Plot the distribution of hourly weather coditions \n",
    "df[\"Conditions\"].value_counts().plot.barh(figsize = (10, 5))\n",
    "plt.xlabel(\"Frequency\")\n",
    "plt.ylabel(\"Conditions\")\n",
    "plt.title(\"Hourly Weather Forecast Conditions\");"
   ]
  },
  {
   "cell_type": "code",
   "execution_count": 20,
   "metadata": {},
   "outputs": [
    {
     "data": {
      "image/png": "[encoded data removed]",
      "text/plain": [
       "<Figure size 720x360 with 1 Axes>"
      ]
     },
     "metadata": {},
     "output_type": "display_data"
    }
   ],
   "source": [
    "# Distribution of temperature for greater than the average value\n",
    "df_greater_than_avg= df[df[\"Temp (°F)\"] > df[\"Temp (°F)\"].mean()]\n",
    "df_greater_than_avg[\"Temp (°F)\"].hist(figsize=(10, 5))\n",
    "plt.xlabel(\"Temperature\")\n",
    "plt.ylabel(\"Count\")\n",
    "plt.title(\"Distribution of Hourly Forecast Temperature\");"
   ]
  },
  {
   "cell_type": "code",
   "execution_count": null,
   "metadata": {},
   "outputs": [],
   "source": []
  }
 ],
 "metadata": {
  "kernelspec": {
   "display_name": "Python 3",
   "language": "python",
   "name": "python3"
  },
  "language_info": {
   "codemirror_mode": {
    "name": "ipython",
    "version": 3
   },
   "file_extension": ".py",
   "mimetype": "text/x-python",
   "name": "python",
   "nbconvert_exporter": "python",
   "pygments_lexer": "ipython3",
   "version": "3.7.7"
  }
 },
 "nbformat": 4,
 "nbformat_minor": 2
}
