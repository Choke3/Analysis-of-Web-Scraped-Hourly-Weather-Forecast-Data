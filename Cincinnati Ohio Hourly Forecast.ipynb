{
 "cells": [
  {
   "cell_type": "markdown",
   "metadata": {},
   "source": [
    "# Cincinnati, Ohio Hourly Weather Forecast"
   ]
  },
  {
   "cell_type": "markdown",
   "metadata": {},
   "source": [
    "### Gathering Data"
   ]
  },
  {
   "cell_type": "code",
   "execution_count": 2,
   "metadata": {},
   "outputs": [],
   "source": [
    "# Import Python Libraries\n",
    "import pandas as pd \n",
    "from bs4 import BeautifulSoup\n",
    "import requests\n",
    "import matplotlib.pyplot as plt\n",
    "%matplotlib inline\n",
    "import seaborn as sns\n",
    "sns.set()"
   ]
  },
  {
   "cell_type": "code",
   "execution_count": 3,
   "metadata": {},
   "outputs": [],
   "source": [
    "# website url for hourly weather forecast\n",
    "url = \"https://www.wcpo.com/weather/hourly-forecast\""
   ]
  },
  {
   "cell_type": "code",
   "execution_count": 4,
   "metadata": {},
   "outputs": [],
   "source": [
    "# Request source code from the web\n",
    "page = requests.get(url)"
   ]
  },
  {
   "cell_type": "code",
   "execution_count": 5,
   "metadata": {},
   "outputs": [],
   "source": [
    "# Parse html using BeautifulSoup\n",
    "soup = BeautifulSoup(page.content, 'lxml')\n",
    "items = soup.find_all(\"div\", class_=\"WeatherHourly\")\n",
    "\n",
    "# Loop through hourly data\n",
    "day = [item.find(class_=\"data-cover day-view today\").get_text() for item in items]\n",
    "conditions= [item.find(class_=\"data-cover descrip-text\").get_text() for item in items]\n",
    "temp = [item.find(class_=\"data-cover hi-lo-day\").get_text()[:-2] for item in items]\n",
    "precip = [item.find(class_=\"data-cover precip-daily-forecast\").get_text()[:-2] for item in items]"
   ]
  },
  {
   "cell_type": "code",
   "execution_count": 6,
   "metadata": {},
   "outputs": [],
   "source": [
    "# create DataFrame from list\n",
    "df = pd.DataFrame({\"Day\": day, \n",
    "                \"Conditions\" : conditions,\n",
    "                \"Temp (°F)\" : temp, \n",
    "                \"Precip (%)\" : precip}, )"
   ]
  },
  {
   "cell_type": "markdown",
   "metadata": {},
   "source": [
    "### Assessing  & Cleaning Data"
   ]
  },
  {
   "cell_type": "code",
   "execution_count": 7,
   "metadata": {},
   "outputs": [
    {
     "data": {
      "text/html": [
       "<div>\n",
       "<style scoped>\n",
       "    .dataframe tbody tr th:only-of-type {\n",
       "        vertical-align: middle;\n",
       "    }\n",
       "\n",
       "    .dataframe tbody tr th {\n",
       "        vertical-align: top;\n",
       "    }\n",
       "\n",
       "    .dataframe thead th {\n",
       "        text-align: right;\n",
       "    }\n",
       "</style>\n",
       "<table border=\"1\" class=\"dataframe\">\n",
       "  <thead>\n",
       "    <tr style=\"text-align: right;\">\n",
       "      <th></th>\n",
       "      <th>Day</th>\n",
       "      <th>Conditions</th>\n",
       "      <th>Temp (°F)</th>\n",
       "      <th>Precip (%)</th>\n",
       "    </tr>\n",
       "  </thead>\n",
       "  <tbody>\n",
       "    <tr>\n",
       "      <td>0</td>\n",
       "      <td>\\nMonday\\n09:00 PM</td>\n",
       "      <td>\\nCloudy\\n</td>\n",
       "      <td>\\n47</td>\n",
       "      <td>\\n 0</td>\n",
       "    </tr>\n",
       "    <tr>\n",
       "      <td>1</td>\n",
       "      <td>\\nMonday\\n10:00 PM</td>\n",
       "      <td>\\nCloudy\\n</td>\n",
       "      <td>\\n48</td>\n",
       "      <td>\\n 0</td>\n",
       "    </tr>\n",
       "    <tr>\n",
       "      <td>2</td>\n",
       "      <td>\\nMonday\\n11:00 PM</td>\n",
       "      <td>\\nCloudy\\n</td>\n",
       "      <td>\\n49</td>\n",
       "      <td>\\n 4</td>\n",
       "    </tr>\n",
       "    <tr>\n",
       "      <td>3</td>\n",
       "      <td>\\nTuesday\\n12:00 AM</td>\n",
       "      <td>\\nCloudy\\n</td>\n",
       "      <td>\\n50</td>\n",
       "      <td>\\n 8</td>\n",
       "    </tr>\n",
       "    <tr>\n",
       "      <td>4</td>\n",
       "      <td>\\nTuesday\\n01:00 AM</td>\n",
       "      <td>\\nShowers\\n</td>\n",
       "      <td>\\n51</td>\n",
       "      <td>\\n 42</td>\n",
       "    </tr>\n",
       "  </tbody>\n",
       "</table>\n",
       "</div>"
      ],
      "text/plain": [
       "                    Day   Conditions Temp (°F) Precip (%)\n",
       "0   \\nMonday\\n09:00 PM    \\nCloudy\\n      \\n47       \\n 0\n",
       "1   \\nMonday\\n10:00 PM    \\nCloudy\\n      \\n48       \\n 0\n",
       "2   \\nMonday\\n11:00 PM    \\nCloudy\\n      \\n49       \\n 4\n",
       "3  \\nTuesday\\n12:00 AM    \\nCloudy\\n      \\n50       \\n 8\n",
       "4  \\nTuesday\\n01:00 AM   \\nShowers\\n      \\n51      \\n 42"
      ]
     },
     "execution_count": 7,
     "metadata": {},
     "output_type": "execute_result"
    }
   ],
   "source": [
    "# Display few rows of data\n",
    "df.head()"
   ]
  },
  {
   "cell_type": "code",
   "execution_count": 8,
   "metadata": {},
   "outputs": [
    {
     "name": "stdout",
     "output_type": "stream",
     "text": [
      "48\n"
     ]
    }
   ],
   "source": [
    "# Count of data\n",
    "print(len(df))"
   ]
  },
  {
   "cell_type": "code",
   "execution_count": 9,
   "metadata": {},
   "outputs": [],
   "source": [
    "# Remove newline characters\n",
    "for col in df.columns:\n",
    "    df[col]= df[col].str.replace(\"\\n\", \" \").str.strip()"
   ]
  },
  {
   "cell_type": "code",
   "execution_count": 10,
   "metadata": {},
   "outputs": [
    {
     "data": {
      "text/html": [
       "<div>\n",
       "<style scoped>\n",
       "    .dataframe tbody tr th:only-of-type {\n",
       "        vertical-align: middle;\n",
       "    }\n",
       "\n",
       "    .dataframe tbody tr th {\n",
       "        vertical-align: top;\n",
       "    }\n",
       "\n",
       "    .dataframe thead th {\n",
       "        text-align: right;\n",
       "    }\n",
       "</style>\n",
       "<table border=\"1\" class=\"dataframe\">\n",
       "  <thead>\n",
       "    <tr style=\"text-align: right;\">\n",
       "      <th></th>\n",
       "      <th>Day</th>\n",
       "      <th>Conditions</th>\n",
       "      <th>Temp (°F)</th>\n",
       "      <th>Precip (%)</th>\n",
       "    </tr>\n",
       "  </thead>\n",
       "  <tbody>\n",
       "    <tr>\n",
       "      <td>0</td>\n",
       "      <td>Monday 09:00 PM</td>\n",
       "      <td>Cloudy</td>\n",
       "      <td>47</td>\n",
       "      <td>0</td>\n",
       "    </tr>\n",
       "    <tr>\n",
       "      <td>1</td>\n",
       "      <td>Monday 10:00 PM</td>\n",
       "      <td>Cloudy</td>\n",
       "      <td>48</td>\n",
       "      <td>0</td>\n",
       "    </tr>\n",
       "    <tr>\n",
       "      <td>2</td>\n",
       "      <td>Monday 11:00 PM</td>\n",
       "      <td>Cloudy</td>\n",
       "      <td>49</td>\n",
       "      <td>4</td>\n",
       "    </tr>\n",
       "    <tr>\n",
       "      <td>3</td>\n",
       "      <td>Tuesday 12:00 AM</td>\n",
       "      <td>Cloudy</td>\n",
       "      <td>50</td>\n",
       "      <td>8</td>\n",
       "    </tr>\n",
       "    <tr>\n",
       "      <td>4</td>\n",
       "      <td>Tuesday 01:00 AM</td>\n",
       "      <td>Showers</td>\n",
       "      <td>51</td>\n",
       "      <td>42</td>\n",
       "    </tr>\n",
       "  </tbody>\n",
       "</table>\n",
       "</div>"
      ],
      "text/plain": [
       "                Day Conditions Temp (°F) Precip (%)\n",
       "0   Monday 09:00 PM     Cloudy        47          0\n",
       "1   Monday 10:00 PM     Cloudy        48          0\n",
       "2   Monday 11:00 PM     Cloudy        49          4\n",
       "3  Tuesday 12:00 AM     Cloudy        50          8\n",
       "4  Tuesday 01:00 AM    Showers        51         42"
      ]
     },
     "execution_count": 10,
     "metadata": {},
     "output_type": "execute_result"
    }
   ],
   "source": [
    "# Display the first 5 rows data after cleaning \n",
    "df.head()"
   ]
  },
  {
   "cell_type": "code",
   "execution_count": 11,
   "metadata": {},
   "outputs": [
    {
     "name": "stdout",
     "output_type": "stream",
     "text": [
      "<class 'pandas.core.frame.DataFrame'>\n",
      "RangeIndex: 48 entries, 0 to 47\n",
      "Data columns (total 4 columns):\n",
      "Day           48 non-null object\n",
      "Conditions    48 non-null object\n",
      "Temp (°F)     48 non-null object\n",
      "Precip (%)    48 non-null object\n",
      "dtypes: object(4)\n",
      "memory usage: 1.6+ KB\n"
     ]
    }
   ],
   "source": [
    "# Concise summary of the data\n",
    "df.info()"
   ]
  },
  {
   "cell_type": "code",
   "execution_count": 12,
   "metadata": {},
   "outputs": [],
   "source": [
    "# Convert datatypes of \"Temp (°F)\" & \"Precip (%)\" columns to \"int64\"\n",
    "df = df.astype({\"Temp (°F)\" : \"int64\", \n",
    "           \"Precip (%)\" : \"int64\"})"
   ]
  },
  {
   "cell_type": "code",
   "execution_count": 13,
   "metadata": {},
   "outputs": [
    {
     "data": {
      "text/plain": [
       "Day           object\n",
       "Conditions    object\n",
       "Temp (°F)      int64\n",
       "Precip (%)     int64\n",
       "dtype: object"
      ]
     },
     "execution_count": 13,
     "metadata": {},
     "output_type": "execute_result"
    }
   ],
   "source": [
    "# Datatypes after removing a newline character\n",
    "df.dtypes"
   ]
  },
  {
   "cell_type": "code",
   "execution_count": 14,
   "metadata": {},
   "outputs": [
    {
     "data": {
      "text/plain": [
       "count    48.000000\n",
       "mean     41.770833\n",
       "std       8.498409\n",
       "min      27.000000\n",
       "25%      34.000000\n",
       "50%      42.000000\n",
       "75%      50.250000\n",
       "max      52.000000\n",
       "Name: Temp (°F), dtype: float64"
      ]
     },
     "execution_count": 14,
     "metadata": {},
     "output_type": "execute_result"
    }
   ],
   "source": [
    "# A short Statistical summary of the Temp column\n",
    "df[\"Temp (°F)\"].describe()"
   ]
  },
  {
   "cell_type": "code",
   "execution_count": 15,
   "metadata": {},
   "outputs": [
    {
     "data": {
      "text/html": [
       "<div>\n",
       "<style scoped>\n",
       "    .dataframe tbody tr th:only-of-type {\n",
       "        vertical-align: middle;\n",
       "    }\n",
       "\n",
       "    .dataframe tbody tr th {\n",
       "        vertical-align: top;\n",
       "    }\n",
       "\n",
       "    .dataframe thead th {\n",
       "        text-align: right;\n",
       "    }\n",
       "</style>\n",
       "<table border=\"1\" class=\"dataframe\">\n",
       "  <thead>\n",
       "    <tr style=\"text-align: right;\">\n",
       "      <th></th>\n",
       "      <th>Day</th>\n",
       "      <th>Conditions</th>\n",
       "      <th>Temp (°F)</th>\n",
       "      <th>Precip (%)</th>\n",
       "    </tr>\n",
       "  </thead>\n",
       "  <tbody>\n",
       "    <tr>\n",
       "      <td>34</td>\n",
       "      <td>Wednesday 07:00 AM</td>\n",
       "      <td>Mostly Clear</td>\n",
       "      <td>27</td>\n",
       "      <td>6</td>\n",
       "    </tr>\n",
       "  </tbody>\n",
       "</table>\n",
       "</div>"
      ],
      "text/plain": [
       "                   Day    Conditions  Temp (°F)  Precip (%)\n",
       "34  Wednesday 07:00 AM  Mostly Clear         27           6"
      ]
     },
     "execution_count": 15,
     "metadata": {},
     "output_type": "execute_result"
    }
   ],
   "source": [
    "# Return data for minimum temperature\n",
    "df.loc[df[\"Temp (°F)\"]== df[\"Temp (°F)\"].min()]"
   ]
  },
  {
   "cell_type": "code",
   "execution_count": 16,
   "metadata": {},
   "outputs": [
    {
     "data": {
      "text/html": [
       "<div>\n",
       "<style scoped>\n",
       "    .dataframe tbody tr th:only-of-type {\n",
       "        vertical-align: middle;\n",
       "    }\n",
       "\n",
       "    .dataframe tbody tr th {\n",
       "        vertical-align: top;\n",
       "    }\n",
       "\n",
       "    .dataframe thead th {\n",
       "        text-align: right;\n",
       "    }\n",
       "</style>\n",
       "<table border=\"1\" class=\"dataframe\">\n",
       "  <thead>\n",
       "    <tr style=\"text-align: right;\">\n",
       "      <th></th>\n",
       "      <th>Day</th>\n",
       "      <th>Conditions</th>\n",
       "      <th>Temp (°F)</th>\n",
       "      <th>Precip (%)</th>\n",
       "    </tr>\n",
       "  </thead>\n",
       "  <tbody>\n",
       "    <tr>\n",
       "      <td>7</td>\n",
       "      <td>Tuesday 04:00 AM</td>\n",
       "      <td>Light Rain</td>\n",
       "      <td>52</td>\n",
       "      <td>63</td>\n",
       "    </tr>\n",
       "    <tr>\n",
       "      <td>8</td>\n",
       "      <td>Tuesday 05:00 AM</td>\n",
       "      <td>Light Rain</td>\n",
       "      <td>52</td>\n",
       "      <td>63</td>\n",
       "    </tr>\n",
       "    <tr>\n",
       "      <td>9</td>\n",
       "      <td>Tuesday 06:00 AM</td>\n",
       "      <td>Light Rain</td>\n",
       "      <td>52</td>\n",
       "      <td>63</td>\n",
       "    </tr>\n",
       "    <tr>\n",
       "      <td>13</td>\n",
       "      <td>Tuesday 10:00 AM</td>\n",
       "      <td>Showers</td>\n",
       "      <td>52</td>\n",
       "      <td>50</td>\n",
       "    </tr>\n",
       "  </tbody>\n",
       "</table>\n",
       "</div>"
      ],
      "text/plain": [
       "                 Day  Conditions  Temp (°F)  Precip (%)\n",
       "7   Tuesday 04:00 AM  Light Rain         52          63\n",
       "8   Tuesday 05:00 AM  Light Rain         52          63\n",
       "9   Tuesday 06:00 AM  Light Rain         52          63\n",
       "13  Tuesday 10:00 AM     Showers         52          50"
      ]
     },
     "execution_count": 16,
     "metadata": {},
     "output_type": "execute_result"
    }
   ],
   "source": [
    "# Return data for maximum temperature\n",
    "df.loc[df[\"Temp (°F)\"]== df[\"Temp (°F)\"].max()]"
   ]
  },
  {
   "cell_type": "markdown",
   "metadata": {},
   "source": [
    "### Data Visualization"
   ]
  },
  {
   "cell_type": "code",
   "execution_count": 17,
   "metadata": {},
   "outputs": [],
   "source": [
    "plt.style.use(\"ggplot\")"
   ]
  },
  {
   "cell_type": "code",
   "execution_count": 18,
   "metadata": {},
   "outputs": [
    {
     "data": {
      "image/png": "[encoded data removed]",
      "text/plain": [
       "<Figure size 720x360 with 1 Axes>"
      ]
     },
     "metadata": {},
     "output_type": "display_data"
    }
   ],
   "source": [
    "df[\"Temp (°F)\"].hist(figsize = (10, 5))\n",
    "plt.xlabel(\"Temperature\")\n",
    "plt.ylabel(\"Frequency\")\n",
    "plt.title(\"Distribution of Hourly Forecast Temperature\");"
   ]
  },
  {
   "cell_type": "code",
   "execution_count": 19,
   "metadata": {},
   "outputs": [
    {
     "data": {
      "text/plain": [
       "array(['Cloudy', 'Showers', 'Light Rain', 'Few Showers', 'Mostly Cloudy',\n",
       "       'Partly Cloudy', 'Mostly Clear', 'Mostly Sunny', 'Sunny'],\n",
       "      dtype=object)"
      ]
     },
     "execution_count": 19,
     "metadata": {},
     "output_type": "execute_result"
    }
   ],
   "source": [
    "# 'Conditions' column unique values\n",
    "df[\"Conditions\"].unique()"
   ]
  },
  {
   "cell_type": "code",
   "execution_count": 20,
   "metadata": {},
   "outputs": [
    {
     "data": {
      "image/png": "[encoded data removed]",
      "text/plain": [
       "<Figure size 720x360 with 1 Axes>"
      ]
     },
     "metadata": {},
     "output_type": "display_data"
    }
   ],
   "source": [
    "# Plot the distribution of hourly weather coditions \n",
    "df[\"Conditions\"].value_counts().plot.barh(figsize = (10, 5))\n",
    "plt.xlabel(\"Frequency\")\n",
    "plt.ylabel(\"Conditions\")\n",
    "plt.title(\"Hourly Weather Forecast Conditions\");"
   ]
  },
  {
   "cell_type": "code",
   "execution_count": 23,
   "metadata": {},
   "outputs": [
    {
     "data": {
      "image/png": "[encoded data removed]",
      "text/plain": [
       "<Figure size 720x360 with 1 Axes>"
      ]
     },
     "metadata": {},
     "output_type": "display_data"
    }
   ],
   "source": [
    "# Distribution of temperature for greater than the average value\n",
    "df_greater_than_avg= df[df[\"Temp (°F)\"] > df[\"Temp (°F)\"].mean()]\n",
    "df_greater_than_avg[\"Temp (°F)\"].hist(figsize=(10, 5))\n",
    "plt.xlabel(\"Temperature\")\n",
    "plt.ylabel(\"Count\")\n",
    "plt.title(\"Distribution of Hourly Forecast Temperature\");"
   ]
  },
  {
   "cell_type": "code",
   "execution_count": null,
   "metadata": {},
   "outputs": [],
   "source": []
  }
 ],
 "metadata": {
  "kernelspec": {
   "display_name": "Python 3",
   "language": "python",
   "name": "python3"
  },
  "language_info": {
   "codemirror_mode": {
    "name": "ipython",
    "version": 3
   },
   "file_extension": ".py",
   "mimetype": "text/x-python",
   "name": "python",
   "nbconvert_exporter": "python",
   "pygments_lexer": "ipython3",
   "version": "3.7.4"
  }
 },
 "nbformat": 4,
 "nbformat_minor": 2
}
